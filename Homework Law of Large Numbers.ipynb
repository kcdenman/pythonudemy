{
 "cells": [
  {
   "cell_type": "code",
   "execution_count": 1,
   "metadata": {},
   "outputs": [],
   "source": [
    "# Test the Law of Large Numbers for N random normally distribured numbers\n",
    "# with mean = 0, stdev = 1\n",
    "\n",
    "#Create a Python script that will count how many of these numbers fall\n",
    "#between -1 and 1 and divide by the total quantity of N\n",
    "\n",
    "#You know that E(X) = 68.2%\n",
    "\n",
    "#Check that Mean(Xn) -> E(X) as you rerun your script while increasing N"
   ]
  },
  {
   "cell_type": "code",
   "execution_count": 8,
   "metadata": {},
   "outputs": [],
   "source": [
    "import numpy as np\n",
    "from numpy.random import randn"
   ]
  },
  {
   "cell_type": "code",
   "execution_count": 25,
   "metadata": {},
   "outputs": [
    {
     "name": "stdout",
     "output_type": "stream",
     "text": [
      "1.9807695013501867 9 3.9615390027003734 0.39615390027003733\n"
     ]
    }
   ],
   "source": [
    "#Solution 1 (my independent code): you can observe the LLN by increasing the range of i and\n",
    "#executing the code. A i -> infinity, meanx -> 0.\n",
    "\n",
    "x = 0\n",
    "n = 0\n",
    "\n",
    "for i in range(10):\n",
    "    x = randn()\n",
    "    sumx = x + x\n",
    "    meanx = sumx / (i+1)\n",
    "\n",
    "print(x, i, sumx, meanx)"
   ]
  },
  {
   "cell_type": "code",
   "execution_count": null,
   "metadata": {},
   "outputs": [],
   "source": [
    "\n",
    "\n"
   ]
  }
 ],
 "metadata": {
  "kernelspec": {
   "display_name": "Python 3",
   "language": "python",
   "name": "python3"
  },
  "language_info": {
   "codemirror_mode": {
    "name": "ipython",
    "version": 3
   },
   "file_extension": ".py",
   "mimetype": "text/x-python",
   "name": "python",
   "nbconvert_exporter": "python",
   "pygments_lexer": "ipython3",
   "version": "3.6.4"
  }
 },
 "nbformat": 4,
 "nbformat_minor": 2
}
