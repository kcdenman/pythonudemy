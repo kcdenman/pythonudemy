{
 "cells": [
  {
   "cell_type": "code",
   "execution_count": 1,
   "metadata": {},
   "outputs": [],
   "source": [
    "#python is not a vectorized programming language - R is\n",
    "#vectorization helps avoid the need for while loops"
   ]
  },
  {
   "cell_type": "code",
   "execution_count": 2,
   "metadata": {},
   "outputs": [],
   "source": [
    "while False:\n",
    "    print(\"Hello\")"
   ]
  },
  {
   "cell_type": "code",
   "execution_count": 4,
   "metadata": {},
   "outputs": [
    {
     "name": "stdout",
     "output_type": "stream",
     "text": [
      "0\n",
      "1\n",
      "2\n",
      "3\n",
      "4\n",
      "5\n",
      "6\n",
      "7\n",
      "8\n",
      "9\n",
      "10\n",
      "11\n"
     ]
    }
   ],
   "source": [
    "counter = 0\n",
    "while counter < 12:\n",
    "    print(counter)\n",
    "    counter = counter + 1"
   ]
  },
  {
   "cell_type": "code",
   "execution_count": 30,
   "metadata": {},
   "outputs": [
    {
     "name": "stdout",
     "output_type": "stream",
     "text": [
      "0 2\n",
      "1 3\n",
      "2 5\n",
      "3 8\n",
      "4 13\n",
      "5 21\n",
      "6 34\n",
      "7 55\n",
      "8 89\n",
      "9 144\n",
      "10 233\n",
      "11 377\n",
      "12 610\n",
      "13 987\n",
      "14 1597\n",
      "15 2584\n",
      "16 4181\n",
      "17 6765\n",
      "18 10946\n",
      "19 17711\n",
      "20 28657\n",
      "21 46368\n",
      "22 75025\n",
      "23 121393\n",
      "24 196418\n",
      "25 317811\n",
      "26 514229\n",
      "27 832040\n",
      "28 1346269\n",
      "29 2178309\n"
     ]
    }
   ],
   "source": [
    "#try it myself\n",
    "\n",
    "#fibonacci sequence\n",
    "\n",
    "counter = 0\n",
    "num1 = 1\n",
    "num2 = 1\n",
    "\n",
    "while counter < 30:\n",
    "    numnext = num1 + num2\n",
    "    num1 = numnext - num1\n",
    "    num2 = numnext\n",
    "    print(counter, numnext)\n",
    "    counter = counter + 1\n",
    "\n",
    "\n"
   ]
  },
  {
   "cell_type": "code",
   "execution_count": null,
   "metadata": {},
   "outputs": [],
   "source": []
  }
 ],
 "metadata": {
  "kernelspec": {
   "display_name": "Python 3",
   "language": "python",
   "name": "python3"
  },
  "language_info": {
   "codemirror_mode": {
    "name": "ipython",
    "version": 3
   },
   "file_extension": ".py",
   "mimetype": "text/x-python",
   "name": "python",
   "nbconvert_exporter": "python",
   "pygments_lexer": "ipython3",
   "version": "3.6.4"
  }
 },
 "nbformat": 4,
 "nbformat_minor": 2
}
